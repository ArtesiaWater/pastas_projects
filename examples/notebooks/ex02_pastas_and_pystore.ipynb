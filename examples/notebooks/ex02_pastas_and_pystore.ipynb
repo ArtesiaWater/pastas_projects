{
 "cells": [
  {
   "cell_type": "markdown",
   "metadata": {},
   "source": [
    "# PyStore Project"
   ]
  },
  {
   "cell_type": "code",
   "execution_count": 1,
   "metadata": {},
   "outputs": [
    {
     "name": "stderr",
     "output_type": "stream",
     "text": [
      "C:\\Users\\dbrak\\Anaconda3\\lib\\site-packages\\arctic\\store\\_pandas_ndarray_store.py:6: FutureWarning: The Panel class is removed from pandas. Accessing it from the top-level namespace will also be removed in the next version\n",
      "  from pandas import DataFrame, Series, Panel\n"
     ]
    }
   ],
   "source": [
    "import pandas as pd\n",
    "import pystore\n",
    "import observations as obs\n",
    "from observations import io_pystore\n",
    "import pastas as ps\n",
    "\n",
    "import sys\n",
    "sys.path.insert(1, \"C:/GitHub/arctic_demo\")\n",
    "\n",
    "from pastas_projects import PystorePastas"
   ]
  },
  {
   "cell_type": "code",
   "execution_count": 2,
   "metadata": {},
   "outputs": [],
   "source": [
    "ps.set_log_level(\"ERROR\")"
   ]
  },
  {
   "cell_type": "code",
   "execution_count": 3,
   "metadata": {},
   "outputs": [],
   "source": [
    "path = \"C:/Github/traval/extracted_data/pystore\"\n",
    "\n",
    "pr = PystorePastas(\"aaenmaas\", path, oseries_store=\"aaenmaas\", stresses_store=\"knmi2\", model_store=\"models\")"
   ]
  },
  {
   "cell_type": "code",
   "execution_count": 4,
   "metadata": {},
   "outputs": [
    {
     "data": {
      "text/plain": [
       "<PystorePastas object> 'aaenmaas': 789 oseries, 27 stresses, 0 models"
      ]
     },
     "execution_count": 4,
     "metadata": {},
     "output_type": "execute_result"
    }
   ],
   "source": [
    "pr"
   ]
  },
  {
   "cell_type": "code",
   "execution_count": 5,
   "metadata": {},
   "outputs": [
    {
     "name": "stderr",
     "output_type": "stream",
     "text": [
      "100%|███████████████████████████████████████████████████████| 5/5 [00:00<00:00, 833.86it/s]\n"
     ]
    }
   ],
   "source": [
    "ts = pr.get_metadata(['103JVM_boven_O','103KBC_beneden_O', '103SZB_beneden_O', '114DZS_O', '253GC_boven_O'], item=\"GW.meting.totaalcorrectie\", kind=\"oseries\")"
   ]
  },
  {
   "cell_type": "code",
   "execution_count": 6,
   "metadata": {},
   "outputs": [
    {
     "name": "stderr",
     "output_type": "stream",
     "text": [
      "100%|████████████████████████████████████████████████████████| 5/5 [00:02<00:00,  2.41it/s]\n"
     ]
    }
   ],
   "source": [
    "oseries = pr.get_oseries(['103JVM_boven_O','103KBC_beneden_O', '103SZB_beneden_O', '114DZS_O', '253GC_boven_O'], item=\"GW.meting.totaalcorrectie\")"
   ]
  },
  {
   "cell_type": "code",
   "execution_count": 7,
   "metadata": {},
   "outputs": [
    {
     "name": "stderr",
     "output_type": "stream",
     "text": [
      "100%|███████████████████████████████████████████████████████| 2/2 [00:00<00:00, 666.77it/s]\n"
     ]
    }
   ],
   "source": [
    "ss = pr.get_metadata([\"356\", \"896\"], item=None, kind=\"stresses\")"
   ]
  },
  {
   "cell_type": "code",
   "execution_count": 8,
   "metadata": {},
   "outputs": [
    {
     "name": "stderr",
     "output_type": "stream",
     "text": [
      "100%|████████████████████████████████████████████████████████| 2/2 [00:00<00:00, 86.94it/s]\n"
     ]
    }
   ],
   "source": [
    "stresses = pr.get_stresses([\"356\", \"896\"], item=None)"
   ]
  },
  {
   "cell_type": "code",
   "execution_count": 9,
   "metadata": {},
   "outputs": [
    {
     "data": {
      "text/plain": [
       "Model(oseries=103JVM_boven_O, name=103JVM_boven_O, constant=True, noisemodel=True)"
      ]
     },
     "execution_count": 9,
     "metadata": {},
     "output_type": "execute_result"
    }
   ],
   "source": [
    "ml = pr.create_model('103JVM_boven_O', \"GW.meting.totaalcorrectie\", add_recharge=True)\n",
    "ml"
   ]
  },
  {
   "cell_type": "code",
   "execution_count": 10,
   "metadata": {},
   "outputs": [],
   "source": [
    "pr.add_model(ml)"
   ]
  },
  {
   "cell_type": "code",
   "execution_count": 11,
   "metadata": {},
   "outputs": [
    {
     "data": {
      "text/plain": [
       "<PystorePastas object> 'aaenmaas': 789 oseries, 27 stresses, 1 models"
      ]
     },
     "execution_count": 11,
     "metadata": {},
     "output_type": "execute_result"
    }
   ],
   "source": [
    "pr"
   ]
  },
  {
   "cell_type": "code",
   "execution_count": 12,
   "metadata": {},
   "outputs": [
    {
     "data": {
      "text/plain": [
       "Model(oseries=103JVM_boven_O, name=103JVM_boven_O, constant=True, noisemodel=True)"
      ]
     },
     "execution_count": 12,
     "metadata": {},
     "output_type": "execute_result"
    }
   ],
   "source": [
    "ml2 = pr.get_models(ml.name)\n",
    "ml2"
   ]
  },
  {
   "cell_type": "code",
   "execution_count": 13,
   "metadata": {},
   "outputs": [],
   "source": [
    "pr.del_model(ml2.name)"
   ]
  },
  {
   "cell_type": "code",
   "execution_count": null,
   "metadata": {},
   "outputs": [],
   "source": []
  }
 ],
 "metadata": {
  "kernelspec": {
   "display_name": "Python 3",
   "language": "python",
   "name": "python3"
  },
  "language_info": {
   "codemirror_mode": {
    "name": "ipython",
    "version": 3
   },
   "file_extension": ".py",
   "mimetype": "text/x-python",
   "name": "python",
   "nbconvert_exporter": "python",
   "pygments_lexer": "ipython3",
   "version": "3.7.3"
  }
 },
 "nbformat": 4,
 "nbformat_minor": 2
}
