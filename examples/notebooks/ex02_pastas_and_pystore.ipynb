{
 "cells": [
  {
   "cell_type": "markdown",
   "metadata": {},
   "source": [
    "# Pastas Projects using PyStore<a id=\"top\"></a>\n",
    "\n",
    "This notebook shows how [Pastas](https://pastas.readthedocs.io/en/latest/) timeseries and models can be managed and stored using Pystore. \n",
    "\n",
    "## Content\n",
    "1. [Getting started](#1)\n",
    "2. [The PystorePastas object](#2)\n",
    "3. [Managing timeseries](#3)\n",
    "  1. [Accessing timeseries and metadata](#3.1)\n",
    "  2. [Adding oseries and stresses](#3.2)\n",
    "  3. [Overview of oseries and stresses](#3.3)\n",
    "4. [Managing Pastas models](#4)\n",
    "  1. [Creating a model](#4.1)\n",
    "  2. [Storing a model](#4.2)\n",
    "  3. [Loading a model](#4.3)\n",
    "  4. [Overview of models](#4.4)\n",
    "5. [Bulk operations](#5)\n",
    "\n",
    "<hr>"
   ]
  },
  {
   "cell_type": "markdown",
   "metadata": {},
   "source": [
    "## [1. Getting started](#top)<a id=\"1\"></a>\n",
    "\n",
    "Use the following steps to get your PC ready for this notebook:\n",
    "\n",
    "1. Install Snappy (see the [Pystore Github](https://github.com/ranaroussi/pystore) for for instructions). For Windows users see [this page](https://www.lfd.uci.edu/~gohlke/pythonlibs/#python-snappy)\n",
    "2. Install Pystore using pip: `pip install pystore`.\n",
    "\n",
    "<hr>\n",
    "\n",
    "## [2. The PystorePastas object](#top)<a id=\"2\"></a>\n",
    "This sections shows how to initialize an `PystorePastas` object to create a new store or link to an existing one.\n",
    "\n",
    "Import `PystorePastas` and some other modules:"
   ]
  },
  {
   "cell_type": "code",
   "execution_count": 1,
   "metadata": {},
   "outputs": [
    {
     "name": "stderr",
     "output_type": "stream",
     "text": [
      "C:\\Users\\dbrak\\Anaconda3\\lib\\site-packages\\arctic\\store\\_pandas_ndarray_store.py:6: FutureWarning: The Panel class is removed from pandas. Accessing it from the top-level namespace will also be removed in the next version\n",
      "  from pandas import DataFrame, Series, Panel\n"
     ]
    }
   ],
   "source": [
    "import pandas as pd\n",
    "import pastas as ps\n",
    "\n",
    "import sys\n",
    "sys.path.insert(1, \"../..\")\n",
    "\n",
    "from pastas_projects import PystorePastas"
   ]
  },
  {
   "cell_type": "markdown",
   "metadata": {},
   "source": [
    "Set the pastas logger to be a little more quiet"
   ]
  },
  {
   "cell_type": "code",
   "execution_count": 2,
   "metadata": {},
   "outputs": [],
   "source": [
    "ps.set_log_level(\"ERROR\")"
   ]
  },
  {
   "cell_type": "markdown",
   "metadata": {},
   "source": [
    "Path to the pystore. This is the directory in which the pystore is located, or where it will be created."
   ]
  },
  {
   "cell_type": "code",
   "execution_count": 3,
   "metadata": {},
   "outputs": [],
   "source": [
    "path = \"C:/Github/traval/extracted_data/pystore\""
   ]
  },
  {
   "cell_type": "markdown",
   "metadata": {},
   "source": [
    "Initialize the PystorePastas object. In this case we are linking to existing stores. If the stores do not yet exist they will be created."
   ]
  },
  {
   "cell_type": "code",
   "execution_count": 4,
   "metadata": {},
   "outputs": [],
   "source": [
    "pr = PystorePastas(\"aaenmaas\", path, oseries_store=\"aaenmaas\", stresses_store=\"knmi2\", model_store=\"models\")"
   ]
  },
  {
   "cell_type": "markdown",
   "metadata": {},
   "source": [
    "Let's take a look at `pr`. This shows us how many oseries, stresses and models are contained in the stores:"
   ]
  },
  {
   "cell_type": "code",
   "execution_count": 5,
   "metadata": {},
   "outputs": [
    {
     "data": {
      "text/plain": [
       "<PystorePastas object> 'aaenmaas': 789 oseries, 27 stresses, 0 models"
      ]
     },
     "execution_count": 5,
     "metadata": {},
     "output_type": "execute_result"
    }
   ],
   "source": [
    "pr"
   ]
  },
  {
   "cell_type": "markdown",
   "metadata": {},
   "source": [
    "The PystorePastas object consists of three stores:\n",
    "- oseries\n",
    "- stresses\n",
    "- models\n",
    "\n",
    "The store handles can be obtained through `pr.get_store()` or through the attributes `pr.lib_<storename>`:\n"
   ]
  },
  {
   "cell_type": "code",
   "execution_count": 6,
   "metadata": {},
   "outputs": [
    {
     "data": {
      "text/plain": [
       "PyStore.datastore <C:\\Github\\traval\\extracted_data\\pystore\\aaenmaas>"
      ]
     },
     "execution_count": 6,
     "metadata": {},
     "output_type": "execute_result"
    }
   ],
   "source": [
    "oseries_store = pr.get_store(\"oseries\")\n",
    "oseries_store"
   ]
  },
  {
   "cell_type": "code",
   "execution_count": 7,
   "metadata": {},
   "outputs": [
    {
     "data": {
      "text/plain": [
       "PyStore.datastore <C:\\Github\\traval\\extracted_data\\pystore\\aaenmaas>"
      ]
     },
     "execution_count": 7,
     "metadata": {},
     "output_type": "execute_result"
    }
   ],
   "source": [
    "pr.lib_oseries"
   ]
  },
  {
   "cell_type": "markdown",
   "metadata": {},
   "source": [
    "The oseries and stresses stores consist of collections which each represent a location. A collection is essentially a folder containing timeseries data. In a collection there are one or multiple items. Each item represents a DataFrame of Series."
   ]
  },
  {
   "cell_type": "markdown",
   "metadata": {},
   "source": [
    "<hr>\n",
    "\n",
    "## [3. Managing timeseries](#top)<a id=\"3\"></a>\n",
    "\n",
    "This section explains how timeseries can be added or loaded from the database. "
   ]
  },
  {
   "cell_type": "markdown",
   "metadata": {},
   "source": [
    "### [3.1 Accessing timeseries and metadata](#top)<a id=\"3.1\"></a>\n",
    "\n",
    "Timeseries metadata can be accessed through `pr.get_metadata()`. Provide the store to load the data from with the `kind` parameter."
   ]
  },
  {
   "cell_type": "code",
   "execution_count": 8,
   "metadata": {},
   "outputs": [
    {
     "name": "stderr",
     "output_type": "stream",
     "text": [
      "100%|█████████████████████████████████████████████████████████████████████████████████████████████████████████████████████████████████████████████████████████| 5/5 [00:00<00:00, 1007.71it/s]\n"
     ]
    }
   ],
   "source": [
    "ts = pr.get_metadata(['103JVM_boven_O','103KBC_beneden_O', '103SZB_beneden_O', '114DZS_O', '253GC_boven_O'], \n",
    "                     item=\"GW.meting.totaalcorrectie\", kind=\"oseries\")"
   ]
  },
  {
   "cell_type": "markdown",
   "metadata": {},
   "source": [
    "Timeseries can be accessed through `pr.get_oseries()` or `pr.get_stresses()`. These methods accept single names or lists of names. In the latter case a dictionary of dataframes is returned."
   ]
  },
  {
   "cell_type": "code",
   "execution_count": 9,
   "metadata": {},
   "outputs": [
    {
     "name": "stderr",
     "output_type": "stream",
     "text": [
      "100%|███████████████████████████████████████████████████████████████████████████████████████████████████████████████████████████████████████████████████████████| 5/5 [00:02<00:00,  2.42it/s]\n"
     ]
    }
   ],
   "source": [
    "oseries = pr.get_oseries(['103JVM_boven_O','103KBC_beneden_O', '103SZB_beneden_O', '114DZS_O', '253GC_boven_O'], \n",
    "                         item=\"GW.meting.totaalcorrectie\")"
   ]
  },
  {
   "cell_type": "code",
   "execution_count": 10,
   "metadata": {},
   "outputs": [
    {
     "name": "stderr",
     "output_type": "stream",
     "text": [
      "100%|███████████████████████████████████████████████████████████████████████████████████████████████████████████████████████████████████████████████████████████| 2/2 [00:00<00:00, 90.97it/s]\n"
     ]
    }
   ],
   "source": [
    "stresses = pr.get_stresses([\"356\", \"896\"], item=None)"
   ]
  },
  {
   "cell_type": "markdown",
   "metadata": {},
   "source": [
    "### [3.2 Adding oseries and stresses](#top)<a id=\"3.2\"></a>\n",
    "\n",
    "Since this notebook is using an existing store, I'm using an existing timeseries to illustrate the adding of new timeseries."
   ]
  },
  {
   "cell_type": "code",
   "execution_count": 11,
   "metadata": {},
   "outputs": [],
   "source": [
    "pr.add_oseries(oseries['103JVM_boven_O'], collection=\"test\", item=\"test\", metadata={})"
   ]
  },
  {
   "cell_type": "markdown",
   "metadata": {},
   "source": [
    "And to delete that same timeseries"
   ]
  },
  {
   "cell_type": "code",
   "execution_count": 12,
   "metadata": {},
   "outputs": [],
   "source": [
    "pr.del_oseries(\"test\")"
   ]
  },
  {
   "cell_type": "markdown",
   "metadata": {},
   "source": [
    "The same methods exist for stresses: `pr.add_stress` and `pr.del_stress`."
   ]
  },
  {
   "cell_type": "markdown",
   "metadata": {},
   "source": [
    "### [3.3 Overview of oseries and stresses](#top)<a id=\"3.3\"></a>\n",
    "\n",
    "An overview of the oseries and stresses is available through `pr.oseries` and `pr.stresses`. These are dataframes containing the metadata of all the timeseries. These dataframes are cached for performance. The cache is cleared when a timeseries is added or modified in the database. "
   ]
  },
  {
   "cell_type": "code",
   "execution_count": 13,
   "metadata": {},
   "outputs": [
    {
     "data": {
      "text/html": [
       "<div>\n",
       "<style scoped>\n",
       "    .dataframe tbody tr th:only-of-type {\n",
       "        vertical-align: middle;\n",
       "    }\n",
       "\n",
       "    .dataframe tbody tr th {\n",
       "        vertical-align: top;\n",
       "    }\n",
       "\n",
       "    .dataframe thead th {\n",
       "        text-align: right;\n",
       "    }\n",
       "</style>\n",
       "<table border=\"1\" class=\"dataframe\">\n",
       "  <thead>\n",
       "    <tr style=\"text-align: right;\">\n",
       "      <th></th>\n",
       "      <th>type</th>\n",
       "      <th>locationId</th>\n",
       "      <th>parameterId</th>\n",
       "      <th>timeStep</th>\n",
       "      <th>startDate</th>\n",
       "      <th>endDate</th>\n",
       "      <th>missVal</th>\n",
       "      <th>longName</th>\n",
       "      <th>x</th>\n",
       "      <th>y</th>\n",
       "      <th>units</th>\n",
       "      <th>sourceOrganisation</th>\n",
       "      <th>sourceSystem</th>\n",
       "      <th>fileDescription</th>\n",
       "      <th>region</th>\n",
       "      <th>_updated</th>\n",
       "      <th>moduleInstanceId</th>\n",
       "      <th>stationName</th>\n",
       "      <th>lat</th>\n",
       "      <th>lon</th>\n",
       "    </tr>\n",
       "  </thead>\n",
       "  <tbody>\n",
       "    <tr>\n",
       "      <td>103JVM_boven_O</td>\n",
       "      <td>instantaneous</td>\n",
       "      <td>103JVM_boven_O</td>\n",
       "      <td>G.meting.inhangdiepte</td>\n",
       "      <td>{'unit': 'nonequidistant'}</td>\n",
       "      <td>{'date': '2015-09-10', 'time': '18:00:00'}</td>\n",
       "      <td>{'date': '2019-06-21', 'time': '08:00:00'}</td>\n",
       "      <td>NaN</td>\n",
       "      <td>None</td>\n",
       "      <td>162831.0</td>\n",
       "      <td>417973.0</td>\n",
       "      <td>m</td>\n",
       "      <td>Artesia</td>\n",
       "      <td>art_diver03.582b</td>\n",
       "      <td>None</td>\n",
       "      <td>None</td>\n",
       "      <td>2019-09-12 13:01:27.856126</td>\n",
       "      <td>NaN</td>\n",
       "      <td>NaN</td>\n",
       "      <td>NaN</td>\n",
       "      <td>NaN</td>\n",
       "    </tr>\n",
       "    <tr>\n",
       "      <td>103KBC_beneden_O</td>\n",
       "      <td>instantaneous</td>\n",
       "      <td>103KBC_beneden_O</td>\n",
       "      <td>G.meting.inhangdiepte</td>\n",
       "      <td>{'unit': 'nonequidistant'}</td>\n",
       "      <td>{'date': '2015-09-10', 'time': '18:00:00'}</td>\n",
       "      <td>{'date': '2019-06-21', 'time': '09:00:00'}</td>\n",
       "      <td>NaN</td>\n",
       "      <td>None</td>\n",
       "      <td>166688.0</td>\n",
       "      <td>416940.0</td>\n",
       "      <td>m</td>\n",
       "      <td>Artesia</td>\n",
       "      <td>art_diver03.582b</td>\n",
       "      <td>None</td>\n",
       "      <td>None</td>\n",
       "      <td>2019-09-12 13:01:28.235103</td>\n",
       "      <td>NaN</td>\n",
       "      <td>NaN</td>\n",
       "      <td>NaN</td>\n",
       "      <td>NaN</td>\n",
       "    </tr>\n",
       "    <tr>\n",
       "      <td>103SZB_beneden_O</td>\n",
       "      <td>instantaneous</td>\n",
       "      <td>103SZB_beneden_O</td>\n",
       "      <td>G.meting.inhangdiepte</td>\n",
       "      <td>{'unit': 'nonequidistant'}</td>\n",
       "      <td>{'date': '2015-09-10', 'time': '18:00:00'}</td>\n",
       "      <td>{'date': '2019-06-21', 'time': '08:00:00'}</td>\n",
       "      <td>NaN</td>\n",
       "      <td>None</td>\n",
       "      <td>164713.0</td>\n",
       "      <td>418134.0</td>\n",
       "      <td>m</td>\n",
       "      <td>Artesia</td>\n",
       "      <td>art_diver03.582b</td>\n",
       "      <td>None</td>\n",
       "      <td>None</td>\n",
       "      <td>2019-09-12 13:01:28.571129</td>\n",
       "      <td>NaN</td>\n",
       "      <td>NaN</td>\n",
       "      <td>NaN</td>\n",
       "      <td>NaN</td>\n",
       "    </tr>\n",
       "  </tbody>\n",
       "</table>\n",
       "</div>"
      ],
      "text/plain": [
       "                           type        locationId            parameterId  \\\n",
       "103JVM_boven_O    instantaneous    103JVM_boven_O  G.meting.inhangdiepte   \n",
       "103KBC_beneden_O  instantaneous  103KBC_beneden_O  G.meting.inhangdiepte   \n",
       "103SZB_beneden_O  instantaneous  103SZB_beneden_O  G.meting.inhangdiepte   \n",
       "\n",
       "                                    timeStep  \\\n",
       "103JVM_boven_O    {'unit': 'nonequidistant'}   \n",
       "103KBC_beneden_O  {'unit': 'nonequidistant'}   \n",
       "103SZB_beneden_O  {'unit': 'nonequidistant'}   \n",
       "\n",
       "                                                   startDate  \\\n",
       "103JVM_boven_O    {'date': '2015-09-10', 'time': '18:00:00'}   \n",
       "103KBC_beneden_O  {'date': '2015-09-10', 'time': '18:00:00'}   \n",
       "103SZB_beneden_O  {'date': '2015-09-10', 'time': '18:00:00'}   \n",
       "\n",
       "                                                     endDate missVal longName  \\\n",
       "103JVM_boven_O    {'date': '2019-06-21', 'time': '08:00:00'}     NaN     None   \n",
       "103KBC_beneden_O  {'date': '2019-06-21', 'time': '09:00:00'}     NaN     None   \n",
       "103SZB_beneden_O  {'date': '2019-06-21', 'time': '08:00:00'}     NaN     None   \n",
       "\n",
       "                         x         y units sourceOrganisation  \\\n",
       "103JVM_boven_O    162831.0  417973.0     m            Artesia   \n",
       "103KBC_beneden_O  166688.0  416940.0     m            Artesia   \n",
       "103SZB_beneden_O  164713.0  418134.0     m            Artesia   \n",
       "\n",
       "                      sourceSystem fileDescription region  \\\n",
       "103JVM_boven_O    art_diver03.582b            None   None   \n",
       "103KBC_beneden_O  art_diver03.582b            None   None   \n",
       "103SZB_beneden_O  art_diver03.582b            None   None   \n",
       "\n",
       "                                    _updated moduleInstanceId stationName  \\\n",
       "103JVM_boven_O    2019-09-12 13:01:27.856126              NaN         NaN   \n",
       "103KBC_beneden_O  2019-09-12 13:01:28.235103              NaN         NaN   \n",
       "103SZB_beneden_O  2019-09-12 13:01:28.571129              NaN         NaN   \n",
       "\n",
       "                  lat  lon  \n",
       "103JVM_boven_O    NaN  NaN  \n",
       "103KBC_beneden_O  NaN  NaN  \n",
       "103SZB_beneden_O  NaN  NaN  "
      ]
     },
     "execution_count": 13,
     "metadata": {},
     "output_type": "execute_result"
    }
   ],
   "source": [
    "pr.oseries.head(3)"
   ]
  },
  {
   "cell_type": "code",
   "execution_count": 14,
   "metadata": {},
   "outputs": [
    {
     "data": {
      "text/html": [
       "<div>\n",
       "<style scoped>\n",
       "    .dataframe tbody tr th:only-of-type {\n",
       "        vertical-align: middle;\n",
       "    }\n",
       "\n",
       "    .dataframe tbody tr th {\n",
       "        vertical-align: top;\n",
       "    }\n",
       "\n",
       "    .dataframe thead th {\n",
       "        text-align: right;\n",
       "    }\n",
       "</style>\n",
       "<table border=\"1\" class=\"dataframe\">\n",
       "  <thead>\n",
       "    <tr style=\"text-align: right;\">\n",
       "      <th></th>\n",
       "      <th>x</th>\n",
       "      <th>y</th>\n",
       "      <th>station</th>\n",
       "      <th>name</th>\n",
       "      <th>kind</th>\n",
       "      <th>group</th>\n",
       "      <th>_updated</th>\n",
       "    </tr>\n",
       "  </thead>\n",
       "  <tbody>\n",
       "    <tr>\n",
       "      <td>356</td>\n",
       "      <td>138628</td>\n",
       "      <td>428968</td>\n",
       "      <td>356</td>\n",
       "      <td>EV24 Herwijnen</td>\n",
       "      <td>evap</td>\n",
       "      <td>knmi_data</td>\n",
       "      <td>2019-11-22 18:06:08.878006</td>\n",
       "    </tr>\n",
       "    <tr>\n",
       "      <td>370</td>\n",
       "      <td>157018</td>\n",
       "      <td>384446</td>\n",
       "      <td>370</td>\n",
       "      <td>EV24 Eindhoven</td>\n",
       "      <td>evap</td>\n",
       "      <td>knmi_data</td>\n",
       "      <td>2019-11-22 18:06:08.896000</td>\n",
       "    </tr>\n",
       "    <tr>\n",
       "      <td>375</td>\n",
       "      <td>176615</td>\n",
       "      <td>406739</td>\n",
       "      <td>375</td>\n",
       "      <td>EV24 Volkel</td>\n",
       "      <td>evap</td>\n",
       "      <td>knmi_data</td>\n",
       "      <td>2019-11-22 18:06:08.916002</td>\n",
       "    </tr>\n",
       "    <tr>\n",
       "      <td>377</td>\n",
       "      <td>181488</td>\n",
       "      <td>356705</td>\n",
       "      <td>377</td>\n",
       "      <td>EV24 Ell</td>\n",
       "      <td>evap</td>\n",
       "      <td>knmi_data</td>\n",
       "      <td>2019-11-22 18:06:08.933001</td>\n",
       "    </tr>\n",
       "    <tr>\n",
       "      <td>380</td>\n",
       "      <td>182824</td>\n",
       "      <td>325194</td>\n",
       "      <td>380</td>\n",
       "      <td>EV24 Maastricht</td>\n",
       "      <td>evap</td>\n",
       "      <td>knmi_data</td>\n",
       "      <td>2019-11-22 18:06:08.951008</td>\n",
       "    </tr>\n",
       "  </tbody>\n",
       "</table>\n",
       "</div>"
      ],
      "text/plain": [
       "          x       y station             name  kind      group  \\\n",
       "356  138628  428968     356   EV24 Herwijnen  evap  knmi_data   \n",
       "370  157018  384446     370   EV24 Eindhoven  evap  knmi_data   \n",
       "375  176615  406739     375      EV24 Volkel  evap  knmi_data   \n",
       "377  181488  356705     377         EV24 Ell  evap  knmi_data   \n",
       "380  182824  325194     380  EV24 Maastricht  evap  knmi_data   \n",
       "\n",
       "                       _updated  \n",
       "356  2019-11-22 18:06:08.878006  \n",
       "370  2019-11-22 18:06:08.896000  \n",
       "375  2019-11-22 18:06:08.916002  \n",
       "377  2019-11-22 18:06:08.933001  \n",
       "380  2019-11-22 18:06:08.951008  "
      ]
     },
     "execution_count": 14,
     "metadata": {},
     "output_type": "execute_result"
    }
   ],
   "source": [
    "pr.stresses.head()"
   ]
  },
  {
   "cell_type": "markdown",
   "metadata": {},
   "source": [
    "<hr>\n",
    "\n",
    "## [4. Managing Pastas models](#top)<a id=\"4\"></a>\n",
    "\n",
    "This section shows how Pastas models can be created, stored, and loaded from the pystore."
   ]
  },
  {
   "cell_type": "markdown",
   "metadata": {},
   "source": [
    "### [4.1 Creating a model](#top)<a id=\"4.1\"></a>\n",
    "\n",
    "Creating a new model is straightforward using `pr.create_model()`. The `add_recharge` keyword argument allows the user to choose (default is True) whether recharge is automatically added to the model using the closest precipitation and evaporation stations in the stresses library. Pass both the location (collection) and timeseries (item) to specify which oseries to use to build the model."
   ]
  },
  {
   "cell_type": "code",
   "execution_count": 15,
   "metadata": {},
   "outputs": [
    {
     "data": {
      "text/plain": [
       "Model(oseries=103JVM_boven_O, name=103JVM_boven_O, constant=True, noisemodel=True)"
      ]
     },
     "execution_count": 15,
     "metadata": {},
     "output_type": "execute_result"
    }
   ],
   "source": [
    "ml = pr.create_model('103JVM_boven_O', \"GW.meting.totaalcorrectie\", add_recharge=True)\n",
    "ml"
   ]
  },
  {
   "cell_type": "markdown",
   "metadata": {},
   "source": [
    "### [4.2 Storing a model](#top)<a id=\"4.2\"></a>\n",
    "The model that was created in the previous step is not automatically stored in the model store. Use `pr.add_model()` to store the model. The overwrite keyword argument allows the user to overwrite an existing model with the same name.\n",
    "\n",
    "**Note:**\n",
    "The model is stored without the timeseries. It is assumed the timeseries are already stored in the oseries or stresses stores, making it redundant to store these again in most cases. Obviously this has the potential downside that modifications to a timeseries prior to using it in a model will not be saved. In this implementation, the user is expected to add a new timeseries under a new name or version to the oseries and stresses stores and create a new model using that data."
   ]
  },
  {
   "cell_type": "code",
   "execution_count": 16,
   "metadata": {},
   "outputs": [],
   "source": [
    "pr.add_model(ml)"
   ]
  },
  {
   "cell_type": "markdown",
   "metadata": {},
   "source": [
    "As we can see, the project now contains one model:"
   ]
  },
  {
   "cell_type": "code",
   "execution_count": 17,
   "metadata": {},
   "outputs": [
    {
     "data": {
      "text/plain": [
       "<PystorePastas object> 'aaenmaas': 789 oseries, 27 stresses, 1 models"
      ]
     },
     "execution_count": 17,
     "metadata": {},
     "output_type": "execute_result"
    }
   ],
   "source": [
    "pr"
   ]
  },
  {
   "cell_type": "markdown",
   "metadata": {},
   "source": [
    "### [4.3 Loading a model](#top)<a id=\"4.3\"></a>\n",
    "\n",
    "Loading a stored model is simple using `pr.get_models()`.\n",
    "\n",
    "The model is stored as a dictionary in the metadata of an item (see `ml.to_dict()`) without the timeseries data. The timeseries in the model are picked up based on the names of those series from the respective stores (oseries or stresses). The data that is stored with the model metadata is a dummy empty dataframe to allow the storage of the model with the Pystore library. This slightly 'hacky' method allows everything to be stored within the same directory."
   ]
  },
  {
   "cell_type": "code",
   "execution_count": 18,
   "metadata": {},
   "outputs": [
    {
     "data": {
      "text/plain": [
       "Model(oseries=103JVM_boven_O, name=103JVM_boven_O, constant=True, noisemodel=True)"
      ]
     },
     "execution_count": 18,
     "metadata": {},
     "output_type": "execute_result"
    }
   ],
   "source": [
    "ml2 = pr.get_models(ml.name)\n",
    "ml2"
   ]
  },
  {
   "cell_type": "markdown",
   "metadata": {},
   "source": [
    "### [4.4 Overview of models](#top)<a id=\"4.4\"></a>\n",
    "\n",
    "An overview of the models is available through `pr.models` which lists the names of all the models:"
   ]
  },
  {
   "cell_type": "code",
   "execution_count": 19,
   "metadata": {},
   "outputs": [
    {
     "data": {
      "text/plain": [
       "['103JVM_boven_O']"
      ]
     },
     "execution_count": 19,
     "metadata": {},
     "output_type": "execute_result"
    }
   ],
   "source": [
    "pr.models"
   ]
  },
  {
   "cell_type": "markdown",
   "metadata": {},
   "source": [
    "Deleting a model is done using `pr.del_model()`:"
   ]
  },
  {
   "cell_type": "code",
   "execution_count": 20,
   "metadata": {},
   "outputs": [],
   "source": [
    "pr.del_model(ml2.name)"
   ]
  },
  {
   "cell_type": "markdown",
   "metadata": {},
   "source": [
    "<hr>\n",
    "\n",
    "## [5. Bulk operations](#top)<a id=\"5\"></a>\n",
    "\n",
    "The following bulk operations are available:\n",
    "- `create_models`: create models for all oseries in database\n",
    "- `solve_models`: solve all or selection of models in database\n",
    "- `model_results`: get results for all or selection of models in database\n",
    "\n",
    "The `pr.create_models()` method allows the user to get models for all or a selection of oseries in the database. Options include:\n",
    "- selecting specific oseries to create models for\n",
    "- automatically adding recharge based on nearest precipitation and evaporation stresses\n",
    "- solving the models\n",
    "- storing the models in the models library\n",
    "\n",
    "These methods work virtually the same as the ArcticPastas methods. The only difference is that the item name must be passed to determine which timeseries should be loaded for each location.\n",
    "\n",
    "**Note**: when using the progressbar (default), for a prettier result the pastas log level should be turned off or set to ERROR using: `ps.set_log_level(\"ERROR\")`."
   ]
  },
  {
   "cell_type": "code",
   "execution_count": 21,
   "metadata": {},
   "outputs": [
    {
     "name": "stderr",
     "output_type": "stream",
     "text": [
      "100%|███████████████████████████████████████████████████████████████████████████████████████████████████████████████████████████████████████████████████████████| 2/2 [00:00<00:00,  5.11it/s]\n"
     ]
    }
   ],
   "source": [
    "mls = pr.create_models(oseries=[\"WIJB020_G\", \"STRA001_G\"], item=\"GW.meting.totaalcorrectie\", store=True)"
   ]
  },
  {
   "cell_type": "markdown",
   "metadata": {},
   "source": [
    "To solve all or a selection of models use `pr.solve_models()`. Options for this method include:\n",
    "- selecting models to solve\n",
    "- store results in models library\n",
    "- raise error (or not) when solving fails\n",
    "- print solve reports"
   ]
  },
  {
   "cell_type": "code",
   "execution_count": 22,
   "metadata": {},
   "outputs": [
    {
     "name": "stderr",
     "output_type": "stream",
     "text": [
      "100%|███████████████████████████████████████████████████████████████████████████████████████████████████████████████████████████████████████████████████████████| 2/2 [00:01<00:00,  1.09it/s]\n"
     ]
    }
   ],
   "source": [
    "pr.solve_models(mls=[\"WIJB020_G\", \"STRA001_G\"], store_result=True)"
   ]
  },
  {
   "cell_type": "markdown",
   "metadata": {},
   "source": [
    "Obtaining the model results (parameters, EVP and some other statistics) requires the art_tools module. Results can be obtained for all or a selection of models. The result is a DataFrame with the results:"
   ]
  },
  {
   "cell_type": "code",
   "execution_count": 23,
   "metadata": {},
   "outputs": [
    {
     "name": "stdout",
     "output_type": "stream",
     "text": [
      "flopy is installed in C:\\Users\\dbrak\\Anaconda3\\lib\\site-packages\\flopy\n"
     ]
    },
    {
     "name": "stderr",
     "output_type": "stream",
     "text": [
      "100%|███████████████████████████████████████████████████████████████████████████████████████████████████████████████████████████████████████████████████████████| 2/2 [00:00<00:00,  3.58it/s]\n"
     ]
    },
    {
     "data": {
      "text/html": [
       "<div>\n",
       "<style scoped>\n",
       "    .dataframe tbody tr th:only-of-type {\n",
       "        vertical-align: middle;\n",
       "    }\n",
       "\n",
       "    .dataframe tbody tr th {\n",
       "        vertical-align: top;\n",
       "    }\n",
       "\n",
       "    .dataframe thead th {\n",
       "        text-align: right;\n",
       "    }\n",
       "</style>\n",
       "<table border=\"1\" class=\"dataframe\">\n",
       "  <thead>\n",
       "    <tr style=\"text-align: right;\">\n",
       "      <th></th>\n",
       "      <th>WIJB020_G</th>\n",
       "      <th>STRA001_G</th>\n",
       "    </tr>\n",
       "  </thead>\n",
       "  <tbody>\n",
       "    <tr>\n",
       "      <td>recharge_A</td>\n",
       "      <td>50.8946</td>\n",
       "      <td>779.352</td>\n",
       "    </tr>\n",
       "    <tr>\n",
       "      <td>recharge_n</td>\n",
       "      <td>1.70619</td>\n",
       "      <td>1.38515</td>\n",
       "    </tr>\n",
       "    <tr>\n",
       "      <td>recharge_a</td>\n",
       "      <td>2.95011</td>\n",
       "      <td>80.6056</td>\n",
       "    </tr>\n",
       "    <tr>\n",
       "      <td>recharge_f</td>\n",
       "      <td>-1.05884</td>\n",
       "      <td>-0.720349</td>\n",
       "    </tr>\n",
       "    <tr>\n",
       "      <td>constant_d</td>\n",
       "      <td>6.98767</td>\n",
       "      <td>17.1878</td>\n",
       "    </tr>\n",
       "    <tr>\n",
       "      <td>noise_alpha</td>\n",
       "      <td>164.205</td>\n",
       "      <td>4998.12</td>\n",
       "    </tr>\n",
       "    <tr>\n",
       "      <td>recharge_A_stderr</td>\n",
       "      <td>0.472425</td>\n",
       "      <td>25.5664</td>\n",
       "    </tr>\n",
       "    <tr>\n",
       "      <td>recharge_n_stderr</td>\n",
       "      <td>0.00646726</td>\n",
       "      <td>0.00399895</td>\n",
       "    </tr>\n",
       "    <tr>\n",
       "      <td>recharge_a_stderr</td>\n",
       "      <td>0.0296395</td>\n",
       "      <td>1.9844</td>\n",
       "    </tr>\n",
       "    <tr>\n",
       "      <td>recharge_f_stderr</td>\n",
       "      <td>0.0292283</td>\n",
       "      <td>0.0171425</td>\n",
       "    </tr>\n",
       "    <tr>\n",
       "      <td>constant_d_stderr</td>\n",
       "      <td>0.0199573</td>\n",
       "      <td>4.79335</td>\n",
       "    </tr>\n",
       "    <tr>\n",
       "      <td>noise_alpha_stderr</td>\n",
       "      <td>12.4097</td>\n",
       "      <td>11144.9</td>\n",
       "    </tr>\n",
       "    <tr>\n",
       "      <td>evp</td>\n",
       "      <td>33.819</td>\n",
       "      <td>56.6022</td>\n",
       "    </tr>\n",
       "    <tr>\n",
       "      <td>number of observations used in calibration</td>\n",
       "      <td>NaN</td>\n",
       "      <td>NaN</td>\n",
       "    </tr>\n",
       "    <tr>\n",
       "      <td>memory recharge [days]</td>\n",
       "      <td>10.1665</td>\n",
       "      <td>237.235</td>\n",
       "    </tr>\n",
       "    <tr>\n",
       "      <td>rfunc recharge</td>\n",
       "      <td>Gamma</td>\n",
       "      <td>Gamma</td>\n",
       "    </tr>\n",
       "    <tr>\n",
       "      <td>calibration period [days]</td>\n",
       "      <td>2533</td>\n",
       "      <td>2188</td>\n",
       "    </tr>\n",
       "  </tbody>\n",
       "</table>\n",
       "</div>"
      ],
      "text/plain": [
       "                                             WIJB020_G   STRA001_G\n",
       "recharge_A                                     50.8946     779.352\n",
       "recharge_n                                     1.70619     1.38515\n",
       "recharge_a                                     2.95011     80.6056\n",
       "recharge_f                                    -1.05884   -0.720349\n",
       "constant_d                                     6.98767     17.1878\n",
       "noise_alpha                                    164.205     4998.12\n",
       "recharge_A_stderr                             0.472425     25.5664\n",
       "recharge_n_stderr                           0.00646726  0.00399895\n",
       "recharge_a_stderr                            0.0296395      1.9844\n",
       "recharge_f_stderr                            0.0292283   0.0171425\n",
       "constant_d_stderr                            0.0199573     4.79335\n",
       "noise_alpha_stderr                             12.4097     11144.9\n",
       "evp                                             33.819     56.6022\n",
       "number of observations used in calibration         NaN         NaN\n",
       "memory recharge [days]                         10.1665     237.235\n",
       "rfunc recharge                                   Gamma       Gamma\n",
       "calibration period [days]                         2533        2188"
      ]
     },
     "execution_count": 23,
     "metadata": {},
     "output_type": "execute_result"
    }
   ],
   "source": [
    "results = pr.model_results(mls=[\"WIJB020_G\", \"STRA001_G\"])\n",
    "results.T"
   ]
  },
  {
   "cell_type": "code",
   "execution_count": 24,
   "metadata": {},
   "outputs": [],
   "source": [
    "for m in results.index:\n",
    "    pr.del_model(m)"
   ]
  },
  {
   "cell_type": "code",
   "execution_count": 25,
   "metadata": {},
   "outputs": [
    {
     "data": {
      "text/plain": [
       "<PystorePastas object> 'aaenmaas': 789 oseries, 27 stresses, 0 models"
      ]
     },
     "execution_count": 25,
     "metadata": {},
     "output_type": "execute_result"
    }
   ],
   "source": [
    "pr"
   ]
  }
 ],
 "metadata": {
  "kernelspec": {
   "display_name": "Python 3",
   "language": "python",
   "name": "python3"
  },
  "language_info": {
   "codemirror_mode": {
    "name": "ipython",
    "version": 3
   },
   "file_extension": ".py",
   "mimetype": "text/x-python",
   "name": "python",
   "nbconvert_exporter": "python",
   "pygments_lexer": "ipython3",
   "version": "3.7.3"
  }
 },
 "nbformat": 4,
 "nbformat_minor": 2
}
