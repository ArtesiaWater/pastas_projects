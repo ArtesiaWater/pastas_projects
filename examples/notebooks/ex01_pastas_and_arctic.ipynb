{
 "cells": [
  {
   "cell_type": "markdown",
   "metadata": {},
   "source": [
    "# Pastas Projects using Arctic<a id=\"top\"></a>\n",
    "\n",
    "[Arctic](https://arctic.readthedocs.io/en/latest/) is a timeseries / dataframe database that sits atop [MongoDB](https://www.mongodb.com). This notebook shows how [Pastas](https://pastas.readthedocs.io/en/latest/) timeseries and models can be managed and stored in a MongoDB. \n",
    "\n",
    "## Content\n",
    "1. [Getting started](#1)\n",
    "2. [The ArcticPastas object](#2)\n",
    "  1. [Connect to a database](#2.1)\n",
    "  2. [Structure](#2.2)\n",
    "3. [Managing timeseries](#3)\n",
    "  1. [Adding oseries and stresses](#3.1)\n",
    "  2. [Accessing timeseries and metadata](#3.2)\n",
    "  3. [Overview of oseries and stresses](#3.3)\n",
    "4. [Managing Pastas models](#4)\n",
    "  1. [Creating a model](#4.1)\n",
    "  2. [Storing a model](#4.2)\n",
    "  3. [Loading a model](#4.3)\n",
    "  4. [Overview of models](#4.4)\n",
    "5. [Bulk operations](#5)\n",
    "\n",
    "<hr>"
   ]
  },
  {
   "cell_type": "markdown",
   "metadata": {},
   "source": [
    "## [1. Getting started](#top)<a id=\"1\"></a>\n",
    "\n",
    "Use the following steps to get your PC ready for this notebook:\n",
    "\n",
    "1. Install [MongoDB community](https://www.mongodb.com/download-center/community).\n",
    "2. Install Arctic using pip: `pip install arctic`.\n",
    "3. Run MongoDB by typing `mongod --dbpath <your_path_here>` in your terminal, or if on Windows use the batch script `start_mongodb.bat`.\n",
    "4. If no errors were encountered, you're all set!\n",
    "\n",
    "<hr>\n",
    "\n",
    "## [2. The ArcticPastas object](#top)<a id=\"2\"></a>\n",
    "This sections shows how to initialize an `ArcticPastas` object to create a new database or connect to an existing one.\n",
    "\n",
    "Import `ArcticPastas` and some other modules:"
   ]
  },
  {
   "cell_type": "code",
   "execution_count": 1,
   "metadata": {},
   "outputs": [
    {
     "name": "stderr",
     "output_type": "stream",
     "text": [
      "C:\\Users\\dbrak\\Anaconda3\\lib\\site-packages\\arctic\\store\\_pandas_ndarray_store.py:6: FutureWarning: The Panel class is removed from pandas. Accessing it from the top-level namespace will also be removed in the next version\n",
      "  from pandas import DataFrame, Series, Panel\n"
     ]
    }
   ],
   "source": [
    "import pastas as ps\n",
    "\n",
    "import sys\n",
    "sys.path.insert(1, \"../..\")\n",
    "\n",
    "from pastas_projects import ArcticPastas"
   ]
  },
  {
   "cell_type": "markdown",
   "metadata": {},
   "source": [
    "### [2.1 Connect to a database](#top)<a id=\"2.1\"></a>\n",
    "\n",
    "Provide information about the database. The connection string tells Arctic where the database is running (by default, if running locally the address is `localhost:<port number>`. The project name is the user specified name for the database. If the database already exists, Arctic will connect to that existing database."
   ]
  },
  {
   "cell_type": "code",
   "execution_count": 2,
   "metadata": {},
   "outputs": [],
   "source": [
    "connstr = \"mongodb://localhost:27017/\"  # for docker container with name 'mongodb' running mongodb\n",
    "projectname = \"aaenmaas\""
   ]
  },
  {
   "cell_type": "markdown",
   "metadata": {},
   "source": [
    "Initialize an ArcticPastas object. This is an object that connects to an existing database or initializes a new database if `projectname` does not yet exist."
   ]
  },
  {
   "cell_type": "code",
   "execution_count": 3,
   "metadata": {},
   "outputs": [],
   "source": [
    "pr = ArcticPastas(connstr, projectname)"
   ]
  },
  {
   "cell_type": "markdown",
   "metadata": {},
   "source": [
    "Let's take a look at `pr`. This shows us how many oseries, stresses and models are contained in the database:"
   ]
  },
  {
   "cell_type": "code",
   "execution_count": 4,
   "metadata": {},
   "outputs": [
    {
     "data": {
      "text/plain": [
       "<ArcticPastas object> 'aaenmaas': 481 oseries, 170 stresses, 481 models"
      ]
     },
     "execution_count": 4,
     "metadata": {},
     "output_type": "execute_result"
    }
   ],
   "source": [
    "pr"
   ]
  },
  {
   "cell_type": "markdown",
   "metadata": {},
   "source": [
    "### [2.2 Structure](#top)<a id=\"2.2\"></a>\n",
    "\n",
    "The database for this project contains 3 so-called libraries. Each of these contains specific data related to the project. The three libraries are:\n",
    "- oseries\n",
    "- stresses\n",
    "- models\n",
    "\n",
    "These libraries can be accessed through `pr.get_library()` or through the attributes `pr.lib_<libname>`:"
   ]
  },
  {
   "cell_type": "code",
   "execution_count": 6,
   "metadata": {},
   "outputs": [
    {
     "data": {
      "text/plain": [
       "<VersionStore at 0x29a6b45e1d0>\n",
       "    <ArcticLibrary at 0x29a6b45e908, arctic_aaenmaas.oseries>\n",
       "        <Arctic at 0x29a71524d68, connected to MongoClient(host=['localhost:27017'], document_class=dict, tz_aware=False, connect=True, maxpoolsize=4, sockettimeoutms=600000, connecttimeoutms=2000, serverselectiontimeoutms=30000)>"
      ]
     },
     "execution_count": 6,
     "metadata": {},
     "output_type": "execute_result"
    }
   ],
   "source": [
    "pr.get_library(\"oseries\")"
   ]
  },
  {
   "cell_type": "code",
   "execution_count": 7,
   "metadata": {},
   "outputs": [
    {
     "data": {
      "text/plain": [
       "<VersionStore at 0x29a6b45e1d0>\n",
       "    <ArcticLibrary at 0x29a6b45e908, arctic_aaenmaas.oseries>\n",
       "        <Arctic at 0x29a71524d68, connected to MongoClient(host=['localhost:27017'], document_class=dict, tz_aware=False, connect=True, maxpoolsize=4, sockettimeoutms=600000, connecttimeoutms=2000, serverselectiontimeoutms=30000)>"
      ]
     },
     "execution_count": 7,
     "metadata": {},
     "output_type": "execute_result"
    }
   ],
   "source": [
    "pr.lib_oseries"
   ]
  },
  {
   "cell_type": "markdown",
   "metadata": {},
   "source": [
    "These libraries contain the timeseries and the models. Within these libraries stored objects are labelled with so-called symbols. These symbols are used to read and write the data. "
   ]
  },
  {
   "cell_type": "markdown",
   "metadata": {},
   "source": [
    "<hr>\n",
    "\n",
    "## [3. Managing timeseries](#top)<a id=\"3\"></a>\n",
    "\n",
    "This section explains how timeseries can be added or loaded from the database"
   ]
  },
  {
   "cell_type": "markdown",
   "metadata": {},
   "source": [
    "### [3.1 Adding oseries and stresses](#top)<a id=\"3.1\"></a>\n",
    "\n",
    "Since this notebook is using an existing database, I'm using an existing timeseries to illustrate the adding of new timeseries. More on the accessing of existing timeseries in the next section."
   ]
  },
  {
   "cell_type": "code",
   "execution_count": 8,
   "metadata": {},
   "outputs": [
    {
     "data": {
      "text/html": [
       "<div>\n",
       "<style scoped>\n",
       "    .dataframe tbody tr th:only-of-type {\n",
       "        vertical-align: middle;\n",
       "    }\n",
       "\n",
       "    .dataframe tbody tr th {\n",
       "        vertical-align: top;\n",
       "    }\n",
       "\n",
       "    .dataframe thead th {\n",
       "        text-align: right;\n",
       "    }\n",
       "</style>\n",
       "<table border=\"1\" class=\"dataframe\">\n",
       "  <thead>\n",
       "    <tr style=\"text-align: right;\">\n",
       "      <th></th>\n",
       "      <th>value</th>\n",
       "      <th>flag</th>\n",
       "      <th>comment</th>\n",
       "      <th>flagSource</th>\n",
       "      <th>user</th>\n",
       "    </tr>\n",
       "    <tr>\n",
       "      <th>index</th>\n",
       "      <th></th>\n",
       "      <th></th>\n",
       "      <th></th>\n",
       "      <th></th>\n",
       "      <th></th>\n",
       "    </tr>\n",
       "  </thead>\n",
       "  <tbody>\n",
       "    <tr>\n",
       "      <td>2012-06-19 11:00:00</td>\n",
       "      <td>7.338</td>\n",
       "      <td>0</td>\n",
       "      <td></td>\n",
       "      <td></td>\n",
       "      <td></td>\n",
       "    </tr>\n",
       "    <tr>\n",
       "      <td>2012-06-19 12:00:00</td>\n",
       "      <td>7.331</td>\n",
       "      <td>0</td>\n",
       "      <td></td>\n",
       "      <td></td>\n",
       "      <td></td>\n",
       "    </tr>\n",
       "    <tr>\n",
       "      <td>2012-06-19 13:00:00</td>\n",
       "      <td>7.330</td>\n",
       "      <td>0</td>\n",
       "      <td></td>\n",
       "      <td></td>\n",
       "      <td></td>\n",
       "    </tr>\n",
       "    <tr>\n",
       "      <td>2012-06-19 14:00:00</td>\n",
       "      <td>7.328</td>\n",
       "      <td>0</td>\n",
       "      <td></td>\n",
       "      <td></td>\n",
       "      <td></td>\n",
       "    </tr>\n",
       "    <tr>\n",
       "      <td>2012-06-19 15:00:00</td>\n",
       "      <td>7.324</td>\n",
       "      <td>0</td>\n",
       "      <td></td>\n",
       "      <td></td>\n",
       "      <td></td>\n",
       "    </tr>\n",
       "  </tbody>\n",
       "</table>\n",
       "</div>"
      ],
      "text/plain": [
       "                     value  flag comment flagSource user\n",
       "index                                                   \n",
       "2012-06-19 11:00:00  7.338     0                        \n",
       "2012-06-19 12:00:00  7.331     0                        \n",
       "2012-06-19 13:00:00  7.330     0                        \n",
       "2012-06-19 14:00:00  7.328     0                        \n",
       "2012-06-19 15:00:00  7.324     0                        "
      ]
     },
     "execution_count": 8,
     "metadata": {},
     "output_type": "execute_result"
    }
   ],
   "source": [
    "ts = pr.get_oseries(\"WIJB020_G\")\n",
    "ts.head()"
   ]
  },
  {
   "cell_type": "markdown",
   "metadata": {},
   "source": [
    "Adding oseries or stresses is possible through `pr.add_oseries()` or `pr.add_stresses()`. Metadata can be optionally be provided as a dictionary. The example shows how an oseries can be added, the recipe is identical for `pr.add_stresses()`. The only thing to keep in mind when adding stresses is to add a `kind` attribute to the metadata dictionary so that different types of stresses (i.e. precipitation or evaporation) can be distinguished."
   ]
  },
  {
   "cell_type": "code",
   "execution_count": 8,
   "metadata": {},
   "outputs": [],
   "source": [
    "pr.add_oseries(ts, \"test2\", metadata={\"in_calibration_dataset\": True})"
   ]
  },
  {
   "cell_type": "markdown",
   "metadata": {},
   "source": [
    "An oseries can be deleted with `pr.del_oseries()`:"
   ]
  },
  {
   "cell_type": "code",
   "execution_count": 9,
   "metadata": {},
   "outputs": [],
   "source": [
    "pr.del_oseries(\"test2\")"
   ]
  },
  {
   "cell_type": "markdown",
   "metadata": {},
   "source": [
    "### [3.2 Accessing timeseries and metadata](#top)<a id=\"3.2\"></a>\n",
    "\n",
    "Timeseries can be accessed through `pr.get_oseries()` or `pr.get_stresses()`. These methods accept single symbols or lists of symbols. In the latter case a list of dataframes is returned."
   ]
  },
  {
   "cell_type": "code",
   "execution_count": 10,
   "metadata": {},
   "outputs": [
    {
     "data": {
      "text/plain": [
       "{'WIJB020_G':                      value  flag comment flagSource user\n",
       " index                                                   \n",
       " 2012-06-19 11:00:00  7.338     0                        \n",
       " 2012-06-19 12:00:00  7.331     0                        \n",
       " 2012-06-19 13:00:00  7.330     0                        \n",
       " 2012-06-19 14:00:00  7.328     0                        \n",
       " 2012-06-19 15:00:00  7.324     0                        \n",
       " ...                    ...   ...     ...        ...  ...\n",
       " 2019-05-27 08:00:00  6.811     0                        \n",
       " 2019-05-27 09:00:00  6.810     0                        \n",
       " 2019-05-27 10:00:00  6.807     0                        \n",
       " 2019-05-27 11:00:00  6.806     0                        \n",
       " 2019-05-27 12:00:00  6.803     0                        \n",
       " \n",
       " [57524 rows x 5 columns],\n",
       " 'STRA001_G':                       value  flag comment flagSource user\n",
       " index                                                    \n",
       " 2010-03-25 11:00:00  20.586     0                        \n",
       " 2010-03-25 12:00:00  20.588     0                        \n",
       " 2010-03-25 13:00:00  20.588     0                        \n",
       " 2010-03-25 14:00:00  20.587     0                        \n",
       " 2010-03-25 15:00:00  20.584     0                        \n",
       " ...                     ...   ...     ...        ...  ...\n",
       " 2016-03-21 12:00:00  20.535     0                        \n",
       " 2016-03-21 13:00:00  20.534     0                        \n",
       " 2016-03-21 14:00:00  20.537     0                        \n",
       " 2016-03-21 15:00:00  20.539     0                        \n",
       " 2016-03-21 16:00:00  20.543     0                        \n",
       " \n",
       " [48677 rows x 5 columns]}"
      ]
     },
     "execution_count": 10,
     "metadata": {},
     "output_type": "execute_result"
    }
   ],
   "source": [
    "ts = pr.get_oseries([\"WIJB020_G\", \"STRA001_G\"])\n",
    "ts"
   ]
  },
  {
   "cell_type": "markdown",
   "metadata": {},
   "source": [
    "The precipitation and evaporation data is stored by its station number (perhaps a more convenient symbol can be applied in the future)."
   ]
  },
  {
   "cell_type": "code",
   "execution_count": 11,
   "metadata": {},
   "outputs": [
    {
     "data": {
      "text/plain": [
       "{'10':                   RD\n",
       " YYYYMMDD            \n",
       " 1906-01-01  0.000000\n",
       " 1906-01-02  0.000000\n",
       " 1906-01-03  0.000000\n",
       " 1906-01-04  0.001218\n",
       " 1906-01-05  0.005988\n",
       " ...              ...\n",
       " 2019-09-16  0.000000\n",
       " 2019-09-17  0.000100\n",
       " 2019-09-18  0.001200\n",
       " 2019-09-19  0.000200\n",
       " 2019-09-20  0.000000\n",
       " \n",
       " [41536 rows x 1 columns], '980':                   RD\n",
       " YYYYMMDD            \n",
       " 1951-01-01  0.000000\n",
       " 1951-01-02  0.000000\n",
       " 1951-01-03  0.000000\n",
       " 1951-01-04  0.003951\n",
       " 1951-01-05  0.002029\n",
       " ...              ...\n",
       " 2019-09-06  0.000792\n",
       " 2019-09-07  0.000000\n",
       " 2019-09-08  0.008034\n",
       " 2019-09-09  0.000000\n",
       " 2019-09-10  0.000000\n",
       " \n",
       " [25090 rows x 1 columns]}"
      ]
     },
     "execution_count": 11,
     "metadata": {},
     "output_type": "execute_result"
    }
   ],
   "source": [
    "stresses = pr.get_stresses(['10', '980'])\n",
    "stresses"
   ]
  },
  {
   "cell_type": "markdown",
   "metadata": {},
   "source": [
    "The metadata of a timeseries can be accessed through `pr.get_metadata()`. Provide the library name and the symbol to load the metadata for an oseries or a stress."
   ]
  },
  {
   "cell_type": "code",
   "execution_count": 12,
   "metadata": {},
   "outputs": [
    {
     "data": {
      "text/plain": [
       "{'type': 'instantaneous',\n",
       " 'locationId': 'WIJB020_G',\n",
       " 'parameterId': 'GW.meting.totaalcorrectie',\n",
       " 'timeStep': {'unit': 'nonequidistant'},\n",
       " 'startDate': {'date': '2012-06-19', 'time': '11:00:00'},\n",
       " 'endDate': {'date': '2019-05-27', 'time': '12:00:00'},\n",
       " 'missVal': 'NaN',\n",
       " 'longName': None,\n",
       " 'x': '161634.0',\n",
       " 'y': '404649.0',\n",
       " 'units': 'mNAP',\n",
       " 'sourceOrganisation': 'Artesia',\n",
       " 'sourceSystem': 'art_diver03.582b',\n",
       " 'fileDescription': None,\n",
       " 'region': None,\n",
       " '_updated': '2019-09-12 13:01:48.204106',\n",
       " 'datastore': '..\\\\traval\\\\extracted_data\\\\pystore\\\\aaenmaas',\n",
       " 'name': 'WIJB020_G'}"
      ]
     },
     "execution_count": 12,
     "metadata": {},
     "output_type": "execute_result"
    }
   ],
   "source": [
    "meta = pr.get_metadata('oseries', \"WIJB020_G\")\n",
    "meta"
   ]
  },
  {
   "cell_type": "markdown",
   "metadata": {},
   "source": [
    "### [3.3 Overview of oseries and stresses](#top)<a id=\"3.3\"></a>\n",
    "\n",
    "An overview of the oseries and stresses is available through `pr.oseries` and `pr.stresses`. These are dataframes containing the metadata of all the timeseries. These dataframes are cached for performance. The cache is cleared when a timeseries is added or modified in the database. "
   ]
  },
  {
   "cell_type": "code",
   "execution_count": 13,
   "metadata": {},
   "outputs": [
    {
     "data": {
      "text/html": [
       "<div>\n",
       "<style scoped>\n",
       "    .dataframe tbody tr th:only-of-type {\n",
       "        vertical-align: middle;\n",
       "    }\n",
       "\n",
       "    .dataframe tbody tr th {\n",
       "        vertical-align: top;\n",
       "    }\n",
       "\n",
       "    .dataframe thead th {\n",
       "        text-align: right;\n",
       "    }\n",
       "</style>\n",
       "<table border=\"1\" class=\"dataframe\">\n",
       "  <thead>\n",
       "    <tr style=\"text-align: right;\">\n",
       "      <th></th>\n",
       "      <th>type</th>\n",
       "      <th>locationId</th>\n",
       "      <th>parameterId</th>\n",
       "      <th>timeStep</th>\n",
       "      <th>startDate</th>\n",
       "      <th>endDate</th>\n",
       "      <th>missVal</th>\n",
       "      <th>longName</th>\n",
       "      <th>x</th>\n",
       "      <th>y</th>\n",
       "      <th>units</th>\n",
       "      <th>sourceOrganisation</th>\n",
       "      <th>sourceSystem</th>\n",
       "      <th>fileDescription</th>\n",
       "      <th>region</th>\n",
       "      <th>_updated</th>\n",
       "      <th>datastore</th>\n",
       "      <th>geometry</th>\n",
       "    </tr>\n",
       "    <tr>\n",
       "      <th>name</th>\n",
       "      <th></th>\n",
       "      <th></th>\n",
       "      <th></th>\n",
       "      <th></th>\n",
       "      <th></th>\n",
       "      <th></th>\n",
       "      <th></th>\n",
       "      <th></th>\n",
       "      <th></th>\n",
       "      <th></th>\n",
       "      <th></th>\n",
       "      <th></th>\n",
       "      <th></th>\n",
       "      <th></th>\n",
       "      <th></th>\n",
       "      <th></th>\n",
       "      <th></th>\n",
       "      <th></th>\n",
       "    </tr>\n",
       "  </thead>\n",
       "  <tbody>\n",
       "    <tr>\n",
       "      <td>103JVM_boven_O</td>\n",
       "      <td>instantaneous</td>\n",
       "      <td>103JVM_boven_O</td>\n",
       "      <td>GW.meting.totaalcorrectie</td>\n",
       "      <td>{'unit': 'nonequidistant'}</td>\n",
       "      <td>{'date': '2015-09-10', 'time': '18:00:00'}</td>\n",
       "      <td>{'date': '2019-06-21', 'time': '08:00:00'}</td>\n",
       "      <td>NaN</td>\n",
       "      <td>None</td>\n",
       "      <td>162831.0</td>\n",
       "      <td>417973.0</td>\n",
       "      <td>mNAP</td>\n",
       "      <td>Artesia</td>\n",
       "      <td>art_diver03.582b</td>\n",
       "      <td>None</td>\n",
       "      <td>None</td>\n",
       "      <td>2019-09-12 13:01:27.745137</td>\n",
       "      <td>..\\traval\\extracted_data\\pystore\\aaenmaas</td>\n",
       "      <td>POINT (162831 417973)</td>\n",
       "    </tr>\n",
       "    <tr>\n",
       "      <td>103KBC_beneden_O</td>\n",
       "      <td>instantaneous</td>\n",
       "      <td>103KBC_beneden_O</td>\n",
       "      <td>GW.meting.totaalcorrectie</td>\n",
       "      <td>{'unit': 'nonequidistant'}</td>\n",
       "      <td>{'date': '2015-09-10', 'time': '18:00:00'}</td>\n",
       "      <td>{'date': '2019-06-21', 'time': '09:00:00'}</td>\n",
       "      <td>NaN</td>\n",
       "      <td>None</td>\n",
       "      <td>166688.0</td>\n",
       "      <td>416940.0</td>\n",
       "      <td>mNAP</td>\n",
       "      <td>Artesia</td>\n",
       "      <td>art_diver03.582b</td>\n",
       "      <td>None</td>\n",
       "      <td>None</td>\n",
       "      <td>2019-09-12 13:01:28.120103</td>\n",
       "      <td>..\\traval\\extracted_data\\pystore\\aaenmaas</td>\n",
       "      <td>POINT (166688 416940)</td>\n",
       "    </tr>\n",
       "    <tr>\n",
       "      <td>103SZB_beneden_O</td>\n",
       "      <td>instantaneous</td>\n",
       "      <td>103SZB_beneden_O</td>\n",
       "      <td>GW.meting.totaalcorrectie</td>\n",
       "      <td>{'unit': 'nonequidistant'}</td>\n",
       "      <td>{'date': '2015-09-10', 'time': '18:00:00'}</td>\n",
       "      <td>{'date': '2019-06-21', 'time': '08:00:00'}</td>\n",
       "      <td>NaN</td>\n",
       "      <td>None</td>\n",
       "      <td>164713.0</td>\n",
       "      <td>418134.0</td>\n",
       "      <td>mNAP</td>\n",
       "      <td>Artesia</td>\n",
       "      <td>art_diver03.582b</td>\n",
       "      <td>None</td>\n",
       "      <td>None</td>\n",
       "      <td>2019-09-12 13:01:28.455111</td>\n",
       "      <td>..\\traval\\extracted_data\\pystore\\aaenmaas</td>\n",
       "      <td>POINT (164713 418134)</td>\n",
       "    </tr>\n",
       "    <tr>\n",
       "      <td>114DZS_O</td>\n",
       "      <td>instantaneous</td>\n",
       "      <td>114DZS_O</td>\n",
       "      <td>GW.meting.totaalcorrectie</td>\n",
       "      <td>{'unit': 'nonequidistant'}</td>\n",
       "      <td>{'date': '2015-02-23', 'time': '16:00:00'}</td>\n",
       "      <td>{'date': '2015-12-18', 'time': '09:00:00'}</td>\n",
       "      <td>NaN</td>\n",
       "      <td>None</td>\n",
       "      <td>190012.0</td>\n",
       "      <td>402860.0</td>\n",
       "      <td>mNAP</td>\n",
       "      <td>Artesia</td>\n",
       "      <td>art_diver03.582b</td>\n",
       "      <td>None</td>\n",
       "      <td>None</td>\n",
       "      <td>2019-09-12 13:01:28.756105</td>\n",
       "      <td>..\\traval\\extracted_data\\pystore\\aaenmaas</td>\n",
       "      <td>POINT (190012 402860)</td>\n",
       "    </tr>\n",
       "    <tr>\n",
       "      <td>253GC_boven_O</td>\n",
       "      <td>instantaneous</td>\n",
       "      <td>253GC_boven_O</td>\n",
       "      <td>GW.meting.totaalcorrectie</td>\n",
       "      <td>{'unit': 'nonequidistant'}</td>\n",
       "      <td>{'date': '2015-05-25', 'time': '12:33:07'}</td>\n",
       "      <td>{'date': '2018-02-21', 'time': '17:00:00'}</td>\n",
       "      <td>NaN</td>\n",
       "      <td>None</td>\n",
       "      <td>179254.0</td>\n",
       "      <td>391482.0</td>\n",
       "      <td>mNAP</td>\n",
       "      <td>Artesia</td>\n",
       "      <td>art_diver03.582b</td>\n",
       "      <td>None</td>\n",
       "      <td>None</td>\n",
       "      <td>2019-09-12 13:01:29.099107</td>\n",
       "      <td>..\\traval\\extracted_data\\pystore\\aaenmaas</td>\n",
       "      <td>POINT (179254 391482)</td>\n",
       "    </tr>\n",
       "  </tbody>\n",
       "</table>\n",
       "</div>"
      ],
      "text/plain": [
       "                           type        locationId                parameterId  \\\n",
       "name                                                                           \n",
       "103JVM_boven_O    instantaneous    103JVM_boven_O  GW.meting.totaalcorrectie   \n",
       "103KBC_beneden_O  instantaneous  103KBC_beneden_O  GW.meting.totaalcorrectie   \n",
       "103SZB_beneden_O  instantaneous  103SZB_beneden_O  GW.meting.totaalcorrectie   \n",
       "114DZS_O          instantaneous          114DZS_O  GW.meting.totaalcorrectie   \n",
       "253GC_boven_O     instantaneous     253GC_boven_O  GW.meting.totaalcorrectie   \n",
       "\n",
       "                                    timeStep  \\\n",
       "name                                           \n",
       "103JVM_boven_O    {'unit': 'nonequidistant'}   \n",
       "103KBC_beneden_O  {'unit': 'nonequidistant'}   \n",
       "103SZB_beneden_O  {'unit': 'nonequidistant'}   \n",
       "114DZS_O          {'unit': 'nonequidistant'}   \n",
       "253GC_boven_O     {'unit': 'nonequidistant'}   \n",
       "\n",
       "                                                   startDate  \\\n",
       "name                                                           \n",
       "103JVM_boven_O    {'date': '2015-09-10', 'time': '18:00:00'}   \n",
       "103KBC_beneden_O  {'date': '2015-09-10', 'time': '18:00:00'}   \n",
       "103SZB_beneden_O  {'date': '2015-09-10', 'time': '18:00:00'}   \n",
       "114DZS_O          {'date': '2015-02-23', 'time': '16:00:00'}   \n",
       "253GC_boven_O     {'date': '2015-05-25', 'time': '12:33:07'}   \n",
       "\n",
       "                                                     endDate missVal longName  \\\n",
       "name                                                                            \n",
       "103JVM_boven_O    {'date': '2019-06-21', 'time': '08:00:00'}     NaN     None   \n",
       "103KBC_beneden_O  {'date': '2019-06-21', 'time': '09:00:00'}     NaN     None   \n",
       "103SZB_beneden_O  {'date': '2019-06-21', 'time': '08:00:00'}     NaN     None   \n",
       "114DZS_O          {'date': '2015-12-18', 'time': '09:00:00'}     NaN     None   \n",
       "253GC_boven_O     {'date': '2018-02-21', 'time': '17:00:00'}     NaN     None   \n",
       "\n",
       "                         x         y units sourceOrganisation  \\\n",
       "name                                                            \n",
       "103JVM_boven_O    162831.0  417973.0  mNAP            Artesia   \n",
       "103KBC_beneden_O  166688.0  416940.0  mNAP            Artesia   \n",
       "103SZB_beneden_O  164713.0  418134.0  mNAP            Artesia   \n",
       "114DZS_O          190012.0  402860.0  mNAP            Artesia   \n",
       "253GC_boven_O     179254.0  391482.0  mNAP            Artesia   \n",
       "\n",
       "                      sourceSystem fileDescription region  \\\n",
       "name                                                        \n",
       "103JVM_boven_O    art_diver03.582b            None   None   \n",
       "103KBC_beneden_O  art_diver03.582b            None   None   \n",
       "103SZB_beneden_O  art_diver03.582b            None   None   \n",
       "114DZS_O          art_diver03.582b            None   None   \n",
       "253GC_boven_O     art_diver03.582b            None   None   \n",
       "\n",
       "                                    _updated  \\\n",
       "name                                           \n",
       "103JVM_boven_O    2019-09-12 13:01:27.745137   \n",
       "103KBC_beneden_O  2019-09-12 13:01:28.120103   \n",
       "103SZB_beneden_O  2019-09-12 13:01:28.455111   \n",
       "114DZS_O          2019-09-12 13:01:28.756105   \n",
       "253GC_boven_O     2019-09-12 13:01:29.099107   \n",
       "\n",
       "                                                  datastore  \\\n",
       "name                                                          \n",
       "103JVM_boven_O    ..\\traval\\extracted_data\\pystore\\aaenmaas   \n",
       "103KBC_beneden_O  ..\\traval\\extracted_data\\pystore\\aaenmaas   \n",
       "103SZB_beneden_O  ..\\traval\\extracted_data\\pystore\\aaenmaas   \n",
       "114DZS_O          ..\\traval\\extracted_data\\pystore\\aaenmaas   \n",
       "253GC_boven_O     ..\\traval\\extracted_data\\pystore\\aaenmaas   \n",
       "\n",
       "                               geometry  \n",
       "name                                     \n",
       "103JVM_boven_O    POINT (162831 417973)  \n",
       "103KBC_beneden_O  POINT (166688 416940)  \n",
       "103SZB_beneden_O  POINT (164713 418134)  \n",
       "114DZS_O          POINT (190012 402860)  \n",
       "253GC_boven_O     POINT (179254 391482)  "
      ]
     },
     "execution_count": 13,
     "metadata": {},
     "output_type": "execute_result"
    }
   ],
   "source": [
    "pr.oseries.head()"
   ]
  },
  {
   "cell_type": "code",
   "execution_count": 16,
   "metadata": {},
   "outputs": [
    {
     "data": {
      "text/html": [
       "<div>\n",
       "<style scoped>\n",
       "    .dataframe tbody tr th:only-of-type {\n",
       "        vertical-align: middle;\n",
       "    }\n",
       "\n",
       "    .dataframe tbody tr th {\n",
       "        vertical-align: top;\n",
       "    }\n",
       "\n",
       "    .dataframe thead th {\n",
       "        text-align: right;\n",
       "    }\n",
       "</style>\n",
       "<table border=\"1\" class=\"dataframe\">\n",
       "  <thead>\n",
       "    <tr style=\"text-align: right;\">\n",
       "      <th></th>\n",
       "      <th>x</th>\n",
       "      <th>y</th>\n",
       "      <th>station</th>\n",
       "      <th>group</th>\n",
       "      <th>_updated</th>\n",
       "      <th>datastore</th>\n",
       "      <th>kind</th>\n",
       "      <th>geometry</th>\n",
       "    </tr>\n",
       "    <tr>\n",
       "      <th>name</th>\n",
       "      <th></th>\n",
       "      <th></th>\n",
       "      <th></th>\n",
       "      <th></th>\n",
       "      <th></th>\n",
       "      <th></th>\n",
       "      <th></th>\n",
       "      <th></th>\n",
       "    </tr>\n",
       "  </thead>\n",
       "  <tbody>\n",
       "    <tr>\n",
       "      <td>RD Hollum</td>\n",
       "      <td>171328.112799</td>\n",
       "      <td>605131.163945</td>\n",
       "      <td>10</td>\n",
       "      <td>knmi_data</td>\n",
       "      <td>2019-10-04 16:04:46.908179</td>\n",
       "      <td>C:\\GitHub\\traval\\extracted_data\\pystore\\knmi</td>\n",
       "      <td>prec</td>\n",
       "      <td>POINT (171328.112798747 605131.1639452977)</td>\n",
       "    </tr>\n",
       "    <tr>\n",
       "      <td>RD West Terschelling</td>\n",
       "      <td>143620.063215</td>\n",
       "      <td>597697.877355</td>\n",
       "      <td>11</td>\n",
       "      <td>knmi_data</td>\n",
       "      <td>2019-10-04 16:04:46.603778</td>\n",
       "      <td>C:\\GitHub\\traval\\extracted_data\\pystore\\knmi</td>\n",
       "      <td>prec</td>\n",
       "      <td>POINT (143620.0632145553 597697.8773549523)</td>\n",
       "    </tr>\n",
       "    <tr>\n",
       "      <td>RD Schiermonnikoog</td>\n",
       "      <td>207837.724003</td>\n",
       "      <td>609105.113327</td>\n",
       "      <td>12</td>\n",
       "      <td>knmi_data</td>\n",
       "      <td>2019-10-04 16:04:45.908447</td>\n",
       "      <td>C:\\GitHub\\traval\\extracted_data\\pystore\\knmi</td>\n",
       "      <td>prec</td>\n",
       "      <td>POINT (207837.7240030442 609105.1133266287)</td>\n",
       "    </tr>\n",
       "    <tr>\n",
       "      <td>RD Oost Vlieland</td>\n",
       "      <td>133594.727540</td>\n",
       "      <td>588458.663083</td>\n",
       "      <td>15</td>\n",
       "      <td>knmi_data</td>\n",
       "      <td>2019-10-04 16:04:46.239686</td>\n",
       "      <td>C:\\GitHub\\traval\\extracted_data\\pystore\\knmi</td>\n",
       "      <td>prec</td>\n",
       "      <td>POINT (133594.7275398257 588458.6630831728)</td>\n",
       "    </tr>\n",
       "    <tr>\n",
       "      <td>RD Nes (Ameland)</td>\n",
       "      <td>180188.996497</td>\n",
       "      <td>605169.642060</td>\n",
       "      <td>18</td>\n",
       "      <td>knmi_data</td>\n",
       "      <td>2019-10-04 16:04:46.659799</td>\n",
       "      <td>C:\\GitHub\\traval\\extracted_data\\pystore\\knmi</td>\n",
       "      <td>prec</td>\n",
       "      <td>POINT (180188.9964972839 605169.6420600282)</td>\n",
       "    </tr>\n",
       "  </tbody>\n",
       "</table>\n",
       "</div>"
      ],
      "text/plain": [
       "                                  x              y station      group  \\\n",
       "name                                                                    \n",
       "RD Hollum             171328.112799  605131.163945      10  knmi_data   \n",
       "RD West Terschelling  143620.063215  597697.877355      11  knmi_data   \n",
       "RD Schiermonnikoog    207837.724003  609105.113327      12  knmi_data   \n",
       "RD Oost Vlieland      133594.727540  588458.663083      15  knmi_data   \n",
       "RD Nes (Ameland)      180188.996497  605169.642060      18  knmi_data   \n",
       "\n",
       "                                        _updated  \\\n",
       "name                                               \n",
       "RD Hollum             2019-10-04 16:04:46.908179   \n",
       "RD West Terschelling  2019-10-04 16:04:46.603778   \n",
       "RD Schiermonnikoog    2019-10-04 16:04:45.908447   \n",
       "RD Oost Vlieland      2019-10-04 16:04:46.239686   \n",
       "RD Nes (Ameland)      2019-10-04 16:04:46.659799   \n",
       "\n",
       "                                                         datastore  kind  \\\n",
       "name                                                                       \n",
       "RD Hollum             C:\\GitHub\\traval\\extracted_data\\pystore\\knmi  prec   \n",
       "RD West Terschelling  C:\\GitHub\\traval\\extracted_data\\pystore\\knmi  prec   \n",
       "RD Schiermonnikoog    C:\\GitHub\\traval\\extracted_data\\pystore\\knmi  prec   \n",
       "RD Oost Vlieland      C:\\GitHub\\traval\\extracted_data\\pystore\\knmi  prec   \n",
       "RD Nes (Ameland)      C:\\GitHub\\traval\\extracted_data\\pystore\\knmi  prec   \n",
       "\n",
       "                                                         geometry  \n",
       "name                                                               \n",
       "RD Hollum              POINT (171328.112798747 605131.1639452977)  \n",
       "RD West Terschelling  POINT (143620.0632145553 597697.8773549523)  \n",
       "RD Schiermonnikoog    POINT (207837.7240030442 609105.1133266287)  \n",
       "RD Oost Vlieland      POINT (133594.7275398257 588458.6630831728)  \n",
       "RD Nes (Ameland)      POINT (180188.9964972839 605169.6420600282)  "
      ]
     },
     "execution_count": 16,
     "metadata": {},
     "output_type": "execute_result"
    }
   ],
   "source": [
    "pr.stresses.head()"
   ]
  },
  {
   "cell_type": "markdown",
   "metadata": {},
   "source": [
    "<hr>\n",
    "\n",
    "## [4. Managing Pastas models](#top)<a id=\"4\"></a>\n",
    "\n",
    "This section shows how Pastas models can be created, stored, and loaded from the database."
   ]
  },
  {
   "cell_type": "markdown",
   "metadata": {},
   "source": [
    "### [4.1 Creating a model](#top)<a id=\"4.1\"></a>\n",
    "Creating a new model is straightforward using `pr.create_model()`. The `add_recharge` keyword argument allows the user to choose (default is True) whether recharge is automatically added to the model using the closest precipitation and evaporation stations in the stresses library."
   ]
  },
  {
   "cell_type": "code",
   "execution_count": 17,
   "metadata": {},
   "outputs": [
    {
     "name": "stderr",
     "output_type": "stream",
     "text": [
      "INFO: Cannot determine frequency of series WIJB020_G\n",
      "INFO:pastas.timeseries:Cannot determine frequency of series WIJB020_G\n",
      "INFO: Time Series WIJB020_G: 2 nan-value(s) was/were found and filled with: drop\n",
      "INFO:pastas.timeseries:Time Series WIJB020_G: 2 nan-value(s) was/were found and filled with: drop\n",
      "INFO: Inferred frequency from time series RD Dinther: freq=D \n",
      "INFO:pastas.timeseries:Inferred frequency from time series RD Dinther: freq=D \n",
      "INFO: Inferred frequency from time series EV24 Volkel: freq=D \n",
      "INFO:pastas.timeseries:Inferred frequency from time series EV24 Volkel: freq=D \n"
     ]
    },
    {
     "data": {
      "text/plain": [
       "Model(oseries=WIJB020_G, name=WIJB020_G, constant=True, noisemodel=True)"
      ]
     },
     "execution_count": 17,
     "metadata": {},
     "output_type": "execute_result"
    }
   ],
   "source": [
    "ml = pr.create_model(\"WIJB020_G\", add_recharge=True)\n",
    "ml"
   ]
  },
  {
   "cell_type": "markdown",
   "metadata": {},
   "source": [
    "### [4.2 Storing a model](#top)<a id=\"4.2\"></a>\n",
    "The model that was created in the previous step is not automatically stored in the models library. Use `pr.add_model()` to store the model. If the model already exists, an Exception is raised warning the use the model is already in the library. Use `add_version=True` to add the model anyway. This creates a new version of the object in the library.\n",
    "\n",
    "**Note:**\n",
    "The model is stored without the timeseries. It is assumed the timeseries are already stored in the oseries or stresses libraries, making it redundant to store these again in most cases. Obviously this has the potential downside that modifications to a timeseries prior to using it in a model will not be saved. In this implementation, the user is expected to add a new timeseries under a new name or version to the oseries and stresses libraries and create a new model using that data."
   ]
  },
  {
   "cell_type": "code",
   "execution_count": 16,
   "metadata": {},
   "outputs": [],
   "source": [
    "pr.add_model(ml, add_version=True)"
   ]
  },
  {
   "cell_type": "markdown",
   "metadata": {},
   "source": [
    "### [4.3 Loading a model](#top)<a id=\"4.3\"></a>\n",
    "\n",
    "Loading a stored model is simple using `pr.get_models()`.\n",
    "\n",
    "The model is stored as a dictionary (see `ml.to_dict()`) without the timeseries data. The timeseries in the model are picked up based on the names of those series from the respective libraries (oseries or stresses)."
   ]
  },
  {
   "cell_type": "code",
   "execution_count": 17,
   "metadata": {},
   "outputs": [
    {
     "name": "stderr",
     "output_type": "stream",
     "text": [
      "INFO: Cannot determine frequency of series WIJB020_G\n",
      "INFO: Time Series WIJB020_G: 2 nan-value(s) was/were found and filled with: drop\n"
     ]
    },
    {
     "data": {
      "text/plain": [
       "Model(oseries=WIJB020_G, name=WIJB020_G, constant=True, noisemodel=True)"
      ]
     },
     "execution_count": 17,
     "metadata": {},
     "output_type": "execute_result"
    }
   ],
   "source": [
    "ml2 = pr.get_models([\"WIJB020_G\"])\n",
    "ml2"
   ]
  },
  {
   "cell_type": "markdown",
   "metadata": {},
   "source": [
    "### [4.4 Overview of models](#top)<a id=\"4.4\"></a>\n",
    "\n",
    "An overview of the models is available through `pr.models` which lists the names of all the models:"
   ]
  },
  {
   "cell_type": "code",
   "execution_count": 9,
   "metadata": {},
   "outputs": [
    {
     "data": {
      "text/plain": [
       "['103JVM_boven_O',\n",
       " '103KBC_beneden_O',\n",
       " '103SZB_beneden_O',\n",
       " '114DZS_O',\n",
       " '253GC_boven_O',\n",
       " '253GG_boven_O',\n",
       " '253LCG_boven_O',\n",
       " '253LC_boven_O',\n",
       " '253M_boven_O',\n",
       " '275HGB_boven_O']"
      ]
     },
     "execution_count": 9,
     "metadata": {},
     "output_type": "execute_result"
    }
   ],
   "source": [
    "pr.models[:10]"
   ]
  },
  {
   "cell_type": "markdown",
   "metadata": {},
   "source": [
    "<hr>\n",
    "\n",
    "## [5. Bulk operations](#top)<a id=\"5\"></a>\n",
    "\n",
    "The following bulk operations are available:\n",
    "- `create_models`: create models for all oseries in database\n",
    "- `solve_models`: solve all or selection of models in database\n",
    "- `model_results`: get results for all or selection of models in database\n",
    "\n",
    "The `pr.create_models()` method allows the user to get models for all or a selection of oseries in the database. Options include:\n",
    "- selecting specific oseries to create models for\n",
    "- automatically adding recharge based on nearest precipitation and evaporation stresses\n",
    "- solving the models\n",
    "- storing the models in the models library\n",
    "\n",
    "**Note**: when using the progressbar (default), for a prettier result the pastas log level should be set to ERROR using: `ps.set_log_level(\"ERROR\")`."
   ]
  },
  {
   "cell_type": "code",
   "execution_count": 5,
   "metadata": {},
   "outputs": [],
   "source": [
    "ps.set_log_level(\"ERROR\")"
   ]
  },
  {
   "cell_type": "code",
   "execution_count": 6,
   "metadata": {},
   "outputs": [
    {
     "name": "stderr",
     "output_type": "stream",
     "text": [
      "100%|███████████████████████████████████████████████████████████████████████████████████████████████████████████████████████████████████████████████████████| 481/481 [01:29<00:00,  5.38it/s]\n"
     ]
    }
   ],
   "source": [
    "# mls = pr.create_models(oseries=[\"WIJB020_G\", \"STRA001_G\"], store=False)\n",
    "# mls\n",
    "mls = pr.create_models(store=True)"
   ]
  },
  {
   "cell_type": "markdown",
   "metadata": {},
   "source": [
    "To solve all or a selection of models use `pr.solve_models()`. Options for this method include:\n",
    "- selecting models to solve\n",
    "- store results in models library\n",
    "- raise error (or not) when solving fails\n",
    "- print solve reports"
   ]
  },
  {
   "cell_type": "code",
   "execution_count": 7,
   "metadata": {},
   "outputs": [
    {
     "name": "stderr",
     "output_type": "stream",
     "text": [
      "100%|███████████████████████████████████████████████████████████████████████████████████████████████████████████████████████████████████████████████████████| 481/481 [07:15<00:00,  1.11it/s]\n"
     ]
    }
   ],
   "source": [
    "# pr.solve_models(mls=[\"WIJB020_G\", \"STRA001_G\"], store_result=True)\n",
    "pr.solve_models(store_result=True)"
   ]
  },
  {
   "cell_type": "markdown",
   "metadata": {},
   "source": [
    "Obtaining the model results (parameters, EVP and some other statistics) requires the art_tools module. Results can be obtained for all or a selection of models. The result is a DataFrame with the results:"
   ]
  },
  {
   "cell_type": "code",
   "execution_count": 26,
   "metadata": {},
   "outputs": [
    {
     "name": "stdout",
     "output_type": "stream",
     "text": [
      "flopy is installed in C:\\Users\\dbrak\\Anaconda3\\lib\\site-packages\\flopy\n"
     ]
    },
    {
     "name": "stderr",
     "output_type": "stream",
     "text": [
      "100%|████████████████████████████████████████████████████████████████████████████████| 481/481 [02:13<00:00,  3.60it/s]\n"
     ]
    },
    {
     "data": {
      "text/html": [
       "<div>\n",
       "<style scoped>\n",
       "    .dataframe tbody tr th:only-of-type {\n",
       "        vertical-align: middle;\n",
       "    }\n",
       "\n",
       "    .dataframe tbody tr th {\n",
       "        vertical-align: top;\n",
       "    }\n",
       "\n",
       "    .dataframe thead th {\n",
       "        text-align: right;\n",
       "    }\n",
       "</style>\n",
       "<table border=\"1\" class=\"dataframe\">\n",
       "  <thead>\n",
       "    <tr style=\"text-align: right;\">\n",
       "      <th></th>\n",
       "      <th>recharge_A</th>\n",
       "      <th>recharge_n</th>\n",
       "      <th>recharge_a</th>\n",
       "      <th>recharge_f</th>\n",
       "      <th>constant_d</th>\n",
       "      <th>noise_alpha</th>\n",
       "      <th>recharge_A_stderr</th>\n",
       "      <th>recharge_n_stderr</th>\n",
       "      <th>recharge_a_stderr</th>\n",
       "      <th>recharge_f_stderr</th>\n",
       "      <th>constant_d_stderr</th>\n",
       "      <th>noise_alpha_stderr</th>\n",
       "      <th>evp</th>\n",
       "      <th>number of observations used in calibration</th>\n",
       "      <th>memory recharge [days]</th>\n",
       "      <th>rfunc recharge</th>\n",
       "      <th>calibration period [days]</th>\n",
       "    </tr>\n",
       "  </thead>\n",
       "  <tbody>\n",
       "    <tr>\n",
       "      <td>103JVM_boven_O</td>\n",
       "      <td>277.677</td>\n",
       "      <td>1.16774</td>\n",
       "      <td>115.153</td>\n",
       "      <td>-1.07852</td>\n",
       "      <td>5.20276</td>\n",
       "      <td>92.146</td>\n",
       "      <td>16.0836</td>\n",
       "      <td>0.00910458</td>\n",
       "      <td>6.68289</td>\n",
       "      <td>0.0495698</td>\n",
       "      <td>0.0255696</td>\n",
       "      <td>6.64933</td>\n",
       "      <td>69.244</td>\n",
       "      <td>NaN</td>\n",
       "      <td>297.995</td>\n",
       "      <td>Gamma</td>\n",
       "      <td>1380</td>\n",
       "    </tr>\n",
       "    <tr>\n",
       "      <td>103KBC_beneden_O</td>\n",
       "      <td>381.306</td>\n",
       "      <td>1.04425</td>\n",
       "      <td>116.89</td>\n",
       "      <td>-0.636491</td>\n",
       "      <td>9.1122</td>\n",
       "      <td>30.0863</td>\n",
       "      <td>17.5488</td>\n",
       "      <td>0.00710612</td>\n",
       "      <td>6.39225</td>\n",
       "      <td>0.0274758</td>\n",
       "      <td>0.0276627</td>\n",
       "      <td>1.34556</td>\n",
       "      <td>66.7966</td>\n",
       "      <td>NaN</td>\n",
       "      <td>278.074</td>\n",
       "      <td>Gamma</td>\n",
       "      <td>1380</td>\n",
       "    </tr>\n",
       "    <tr>\n",
       "      <td>103SZB_beneden_O</td>\n",
       "      <td>205.948</td>\n",
       "      <td>1.12655</td>\n",
       "      <td>84.871</td>\n",
       "      <td>-0.822262</td>\n",
       "      <td>5.70939</td>\n",
       "      <td>97.9455</td>\n",
       "      <td>11.2567</td>\n",
       "      <td>0.00649306</td>\n",
       "      <td>4.50049</td>\n",
       "      <td>0.0352531</td>\n",
       "      <td>0.0181701</td>\n",
       "      <td>7.66537</td>\n",
       "      <td>69.1101</td>\n",
       "      <td>NaN</td>\n",
       "      <td>213.771</td>\n",
       "      <td>Gamma</td>\n",
       "      <td>1380</td>\n",
       "    </tr>\n",
       "    <tr>\n",
       "      <td>114DZS_O</td>\n",
       "      <td>1.839</td>\n",
       "      <td>10</td>\n",
       "      <td>0.140495</td>\n",
       "      <td>-0.958413</td>\n",
       "      <td>16.3206</td>\n",
       "      <td>22.1831</td>\n",
       "      <td>0.140127</td>\n",
       "      <td>1.34751</td>\n",
       "      <td>0.0212806</td>\n",
       "      <td>0.292327</td>\n",
       "      <td>0.00701472</td>\n",
       "      <td>1.92568</td>\n",
       "      <td>0</td>\n",
       "      <td>NaN</td>\n",
       "      <td>1.99587</td>\n",
       "      <td>Gamma</td>\n",
       "      <td>298</td>\n",
       "    </tr>\n",
       "    <tr>\n",
       "      <td>253GC_boven_O</td>\n",
       "      <td>96.303</td>\n",
       "      <td>0.799693</td>\n",
       "      <td>147.693</td>\n",
       "      <td>-0.173348</td>\n",
       "      <td>18.9622</td>\n",
       "      <td>13.8294</td>\n",
       "      <td>9.19931</td>\n",
       "      <td>0.00886058</td>\n",
       "      <td>20.403</td>\n",
       "      <td>0.0321927</td>\n",
       "      <td>0.0191603</td>\n",
       "      <td>0.476907</td>\n",
       "      <td>39.0561</td>\n",
       "      <td>NaN</td>\n",
       "      <td>287.218</td>\n",
       "      <td>Gamma</td>\n",
       "      <td>1003</td>\n",
       "    </tr>\n",
       "  </tbody>\n",
       "</table>\n",
       "</div>"
      ],
      "text/plain": [
       "                 recharge_A recharge_n recharge_a recharge_f constant_d  \\\n",
       "103JVM_boven_O      277.677    1.16774    115.153   -1.07852    5.20276   \n",
       "103KBC_beneden_O    381.306    1.04425     116.89  -0.636491     9.1122   \n",
       "103SZB_beneden_O    205.948    1.12655     84.871  -0.822262    5.70939   \n",
       "114DZS_O              1.839         10   0.140495  -0.958413    16.3206   \n",
       "253GC_boven_O        96.303   0.799693    147.693  -0.173348    18.9622   \n",
       "\n",
       "                 noise_alpha recharge_A_stderr recharge_n_stderr  \\\n",
       "103JVM_boven_O        92.146           16.0836        0.00910458   \n",
       "103KBC_beneden_O     30.0863           17.5488        0.00710612   \n",
       "103SZB_beneden_O     97.9455           11.2567        0.00649306   \n",
       "114DZS_O             22.1831          0.140127           1.34751   \n",
       "253GC_boven_O        13.8294           9.19931        0.00886058   \n",
       "\n",
       "                 recharge_a_stderr recharge_f_stderr constant_d_stderr  \\\n",
       "103JVM_boven_O             6.68289         0.0495698         0.0255696   \n",
       "103KBC_beneden_O           6.39225         0.0274758         0.0276627   \n",
       "103SZB_beneden_O           4.50049         0.0352531         0.0181701   \n",
       "114DZS_O                 0.0212806          0.292327        0.00701472   \n",
       "253GC_boven_O               20.403         0.0321927         0.0191603   \n",
       "\n",
       "                 noise_alpha_stderr      evp  \\\n",
       "103JVM_boven_O              6.64933   69.244   \n",
       "103KBC_beneden_O            1.34556  66.7966   \n",
       "103SZB_beneden_O            7.66537  69.1101   \n",
       "114DZS_O                    1.92568        0   \n",
       "253GC_boven_O              0.476907  39.0561   \n",
       "\n",
       "                 number of observations used in calibration  \\\n",
       "103JVM_boven_O                                          NaN   \n",
       "103KBC_beneden_O                                        NaN   \n",
       "103SZB_beneden_O                                        NaN   \n",
       "114DZS_O                                                NaN   \n",
       "253GC_boven_O                                           NaN   \n",
       "\n",
       "                 memory recharge [days] rfunc recharge  \\\n",
       "103JVM_boven_O                  297.995          Gamma   \n",
       "103KBC_beneden_O                278.074          Gamma   \n",
       "103SZB_beneden_O                213.771          Gamma   \n",
       "114DZS_O                        1.99587          Gamma   \n",
       "253GC_boven_O                   287.218          Gamma   \n",
       "\n",
       "                 calibration period [days]  \n",
       "103JVM_boven_O                        1380  \n",
       "103KBC_beneden_O                      1380  \n",
       "103SZB_beneden_O                      1380  \n",
       "114DZS_O                               298  \n",
       "253GC_boven_O                         1003  "
      ]
     },
     "execution_count": 26,
     "metadata": {},
     "output_type": "execute_result"
    }
   ],
   "source": [
    "# results = pr.model_results(mls=[\"WIJB020_G\", \"STRA001_G\"])\n",
    "# results.T\n",
    "results = pr.model_results()\n",
    "results.head()"
   ]
  },
  {
   "cell_type": "code",
   "execution_count": null,
   "metadata": {},
   "outputs": [],
   "source": []
  },
  {
   "cell_type": "code",
   "execution_count": null,
   "metadata": {},
   "outputs": [],
   "source": []
  }
 ],
 "metadata": {
  "kernelspec": {
   "display_name": "Python 3",
   "language": "python",
   "name": "python3"
  },
  "language_info": {
   "codemirror_mode": {
    "name": "ipython",
    "version": 3
   },
   "file_extension": ".py",
   "mimetype": "text/x-python",
   "name": "python",
   "nbconvert_exporter": "python",
   "pygments_lexer": "ipython3",
   "version": "3.7.3"
  }
 },
 "nbformat": 4,
 "nbformat_minor": 2
}
